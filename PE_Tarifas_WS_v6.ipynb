{
 "cells": [
  {
   "cell_type": "code",
   "execution_count": 1,
   "id": "53af0345",
   "metadata": {},
   "outputs": [
    {
     "name": "stdout",
     "output_type": "stream",
     "text": [
      "Setup Ready!\n"
     ]
    }
   ],
   "source": [
    "from selenium import webdriver\n",
    "from selenium.webdriver.edge.service import Service\n",
    "from selenium.webdriver.support.ui import Select\n",
    "from selenium.webdriver.common.by import By\n",
    "import pandas as pd\n",
    "\n",
    "print('Setup Ready!')"
   ]
  },
  {
   "cell_type": "code",
   "execution_count": 2,
   "id": "79b99ce0",
   "metadata": {},
   "outputs": [
    {
     "name": "stderr",
     "output_type": "stream",
     "text": [
      "C:\\Users\\rober\\AppData\\Local\\Temp\\ipykernel_28048\\2379816802.py:2: DeprecationWarning: verbose=True is deprecated. Use `service_args=['--verbose', ...]` instead.\n",
      "  service = Service(verbose = True)\n"
     ]
    }
   ],
   "source": [
    "#Estoy usando el webdriver del explorador Edge. Puedes usar el navegador que prefieras. Solo hay que revisar la documentación.\n",
    "service = Service(verbose = True)\n",
    "\n",
    "driver = webdriver.Edge(service = service)\n",
    "#Se abrirá una nueva ventana del navegador. Es una ventana controlada por Selenium."
   ]
  },
  {
   "cell_type": "code",
   "execution_count": 3,
   "id": "033f0e08",
   "metadata": {},
   "outputs": [],
   "source": [
    "#Indicamos la dirección en la que se encuentran los pielgos.\n",
    "driver.get('https://www.osinergmin.gob.pe/Tarifas/Electricidad/PliegoTarifario?Id=150000')"
   ]
  },
  {
   "cell_type": "code",
   "execution_count": 4,
   "id": "c7cc79c9",
   "metadata": {},
   "outputs": [],
   "source": [
    "#Indicamos que seleccione la tabla con los datos.\n",
    "select = Select(driver.find_element('id','DDLSE'))\n",
    "\n",
    "#En el selector de Sector indicamos el que nos interesa. En mi caso LIMA SUR.\n",
    "select.select_by_visible_text('LIMA SUR')"
   ]
  },
  {
   "cell_type": "code",
   "execution_count": 5,
   "id": "b73b1a1b",
   "metadata": {},
   "outputs": [],
   "source": [
    "lista = list()\n",
    "for i in range(1,169):\n",
    "    ruta = f'//*[@id=\"TbPliego\"]/tbody/tr[{i}]'\n",
    "    texto_columnas1 = driver.find_element(By.XPATH,ruta)\n",
    "    texto_columnas1 = texto_columnas1.text\n",
    "    lista.append(texto_columnas1)\n",
    "#print(lista)"
   ]
  },
  {
   "cell_type": "code",
   "execution_count": 6,
   "id": "1a2c0ee3",
   "metadata": {},
   "outputs": [
    {
     "name": "stdout",
     "output_type": "stream",
     "text": [
      "                                           Descripcion   Unidades  \\\n",
      "0                                                  Sin        IGV   \n",
      "1      TARIFA MT2 TARIFA CON DOBLE MEDICIÓN DE ENERGÍA     ACTIVA   \n",
      "2                       CONTRATACIÓN O MEDICIÓN DE DOS  POTENCIAS   \n",
      "3                                   Cargo Fijo Mensual     S//mes   \n",
      "4               Cargo por Energía Activa en Punta ctm.    S//kW.h   \n",
      "..                                                 ...        ...   \n",
      "162       Cargo Comercial del Servicio Prepago - Si...     S//mes   \n",
      "163                      Cargo por Energía Activa ctm.    S//kW.h   \n",
      "164             TARIFA BT8 TARIFA ELÉCTRICA RURAL PARA   SISTEMAS   \n",
      "165  Los Cargos Fijos Equivalente por Energía Prome...  siguiente   \n",
      "166  https://www.osinergmin.gob.pe/seccion/instituc...       None   \n",
      "\n",
      "            Tarifa  \n",
      "0             None  \n",
      "1                Y  \n",
      "2             2E2P  \n",
      "3             6.76  \n",
      "4            35.42  \n",
      "..             ...  \n",
      "162           2.39  \n",
      "163          65.57  \n",
      "164  FOTOVOLTAICOS  \n",
      "165     dirección:  \n",
      "166           None  \n",
      "\n",
      "[167 rows x 3 columns]\n"
     ]
    }
   ],
   "source": [
    "todo = list()\n",
    "for i in range(1,168):\n",
    "    todo.append(lista[i].rsplit(' ',2))\n",
    "df = pd.DataFrame(todo, columns = ['Descripcion', 'Unidades','Tarifa'])\n",
    "print(df)"
   ]
  },
  {
   "cell_type": "code",
   "execution_count": 7,
   "id": "07960585",
   "metadata": {},
   "outputs": [],
   "source": [
    "df.to_excel('TarifasPE.xlsx')"
   ]
  },
  {
   "cell_type": "code",
   "execution_count": null,
   "id": "74da8755",
   "metadata": {},
   "outputs": [],
   "source": []
  }
 ],
 "metadata": {
  "kernelspec": {
   "display_name": "Python 3 (ipykernel)",
   "language": "python",
   "name": "python3"
  },
  "language_info": {
   "codemirror_mode": {
    "name": "ipython",
    "version": 3
   },
   "file_extension": ".py",
   "mimetype": "text/x-python",
   "name": "python",
   "nbconvert_exporter": "python",
   "pygments_lexer": "ipython3",
   "version": "3.10.11"
  }
 },
 "nbformat": 4,
 "nbformat_minor": 5
}
